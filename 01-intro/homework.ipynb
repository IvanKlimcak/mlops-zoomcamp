{
 "cells": [
  {
   "cell_type": "code",
   "execution_count": 4,
   "id": "c562ecbd",
   "metadata": {},
   "outputs": [],
   "source": [
    "import pandas as pd \n",
    "from sklearn.feature_extraction import DictVectorizer\n",
    "from sklearn.linear_model import LinearRegression\n",
    "from sklearn.metrics import root_mean_squared_error as rmse"
   ]
  },
  {
   "cell_type": "markdown",
   "id": "e900acfa",
   "metadata": {},
   "source": [
    "## Q1. Downloading the data\n",
    "We'll use the same NYC taxi dataset, but instead of \"Green Taxi Trip Records\", we'll use \"Yellow Taxi Trip Records\".\n",
    "Download the data for January and February 2023.\n",
    "Read the data for January. \n",
    "\n",
    "How many columns are there?"
   ]
  },
  {
   "cell_type": "code",
   "execution_count": 5,
   "id": "81b7b0ae",
   "metadata": {},
   "outputs": [
    {
     "data": {
      "text/plain": [
       "19"
      ]
     },
     "execution_count": 5,
     "metadata": {},
     "output_type": "execute_result"
    }
   ],
   "source": [
    "df = pd.read_parquet(\"https://d37ci6vzurychx.cloudfront.net/trip-data/yellow_tripdata_2023-01.parquet\")\n",
    "df.shape[1]"
   ]
  },
  {
   "cell_type": "markdown",
   "id": "f027452c",
   "metadata": {},
   "source": [
    "## Q2. Computing duration\n",
    "Now let's compute the duration variable. It should contain the duration of a ride in minutes.\n",
    "\n",
    "What's the standard deviation of the trips duration in January?"
   ]
  },
  {
   "cell_type": "code",
   "execution_count": 6,
   "id": "49dc6837",
   "metadata": {},
   "outputs": [
    {
     "data": {
      "text/plain": [
       "np.float64(42.59435124195458)"
      ]
     },
     "execution_count": 6,
     "metadata": {},
     "output_type": "execute_result"
    }
   ],
   "source": [
    "df['duration'] = ((df.tpep_dropoff_datetime - df.tpep_pickup_datetime).dt.total_seconds()/60)\n",
    "\n",
    "df.duration.std()"
   ]
  },
  {
   "cell_type": "markdown",
   "id": "99d857be",
   "metadata": {},
   "source": [
    "## Q3. Dropping outliers\n",
    "Next, we need to check the distribution of the duration variable. There are some outliers. Let's remove them and keep only the records where the duration was between 1 and 60 minutes (inclusive).\n",
    "\n",
    "What fraction of the records left after you dropped the outliers?"
   ]
  },
  {
   "cell_type": "code",
   "execution_count": 7,
   "id": "4b5ce7ee",
   "metadata": {},
   "outputs": [
    {
     "data": {
      "text/plain": [
       "0.9812202822125979"
      ]
     },
     "execution_count": 7,
     "metadata": {},
     "output_type": "execute_result"
    }
   ],
   "source": [
    "df_excl = df.loc[df.duration.between(1,60,inclusive='both')]\n",
    "\n",
    "df_excl.shape[0] / df.shape[0]"
   ]
  },
  {
   "cell_type": "markdown",
   "id": "94956e4b",
   "metadata": {},
   "source": [
    "## Q4. One-hot encoding\n",
    "Let's apply one-hot encoding to the pickup and dropoff location IDs. We'll use only these two features for our model.\n",
    "\n",
    "* Turn the dataframe into a list of dictionaries (remember to re-cast the ids to strings - otherwise it will label encode them)\n",
    "* Fit a dictionary vectorizer\n",
    "* Get a feature matrix from it\n",
    "\n",
    "What's the dimensionality of this matrix (number of columns)?"
   ]
  },
  {
   "cell_type": "code",
   "execution_count": 8,
   "id": "55a181fb",
   "metadata": {},
   "outputs": [
    {
     "data": {
      "text/plain": [
       "515"
      ]
     },
     "execution_count": 8,
     "metadata": {},
     "output_type": "execute_result"
    }
   ],
   "source": [
    "categorical = ['PULocationID', 'DOLocationID']\n",
    "target = 'duration'\n",
    "\n",
    "X = df_excl[categorical].astype(str).to_dict(orient='records')\n",
    "y = df_excl[target].values\n",
    "\n",
    "dv = DictVectorizer()\n",
    "X_train = dv.fit_transform(X)\n",
    "X_train.shape[1]"
   ]
  },
  {
   "cell_type": "markdown",
   "id": "357b7cb5",
   "metadata": {},
   "source": [
    "## Q5. Training a model\n",
    "Now let's use the feature matrix from the previous step to train a model.\n",
    "\n",
    "Train a plain linear regression model with default parameters, where duration is the response variable\n",
    "Calculate the RMSE of the model on the training data\n",
    "\n",
    "What's the RMSE on train?"
   ]
  },
  {
   "cell_type": "code",
   "execution_count": 9,
   "id": "8be69b6d",
   "metadata": {},
   "outputs": [
    {
     "data": {
      "text/plain": [
       "7.649261934850555"
      ]
     },
     "execution_count": 9,
     "metadata": {},
     "output_type": "execute_result"
    }
   ],
   "source": [
    "lr = LinearRegression()\n",
    "lr.fit(X_train,y)\n",
    "y_train_pred = lr.predict(X_train)\n",
    "rmse(y, y_train_pred)"
   ]
  },
  {
   "cell_type": "markdown",
   "id": "3b05da7c",
   "metadata": {},
   "source": [
    "## Q6. Evaluating the model\n",
    "Now let's apply this model to the validation dataset (February 2023).\n",
    "\n",
    "What's the RMSE on validation?"
   ]
  },
  {
   "cell_type": "code",
   "execution_count": 10,
   "id": "e3ec3eb3",
   "metadata": {},
   "outputs": [],
   "source": [
    "import src.pipeline as ppl"
   ]
  },
  {
   "cell_type": "code",
   "execution_count": 18,
   "id": "a41548fc",
   "metadata": {},
   "outputs": [
    {
     "data": {
      "text/plain": [
       "7.649261934850555"
      ]
     },
     "execution_count": 18,
     "metadata": {},
     "output_type": "execute_result"
    }
   ],
   "source": [
    "df_processed = ppl.transform_raw_data(df)\n",
    "X_train_dict, y_train = ppl.get_matrices(df_processed)\n",
    "X_train, dv = ppl.vectorize_matrix(X_train_dict)\n",
    "predict_evaluate(X_train, y_train)"
   ]
  },
  {
   "cell_type": "code",
   "execution_count": null,
   "id": "e25155c4",
   "metadata": {},
   "outputs": [],
   "source": [
    "def predict_evaluate(X, y, lr:Union[LinearRegression|None]=None) -> tuple:\n",
    "    if lr is None:\n",
    "        lr = LinearRegression()\n",
    "        lr.fit(X, y)\n",
    "        \n",
    "    y_pred = lr.predict(X)\n",
    "    \n",
    "    return rmse(y, y_pred)"
   ]
  },
  {
   "cell_type": "code",
   "execution_count": 3,
   "id": "7b9815b9",
   "metadata": {},
   "outputs": [
    {
     "ename": "NameError",
     "evalue": "name 'categorical' is not defined",
     "output_type": "error",
     "traceback": [
      "\u001b[31m---------------------------------------------------------------------------\u001b[39m",
      "\u001b[31mNameError\u001b[39m                                 Traceback (most recent call last)",
      "\u001b[36mCell\u001b[39m\u001b[36m \u001b[39m\u001b[32mIn[3]\u001b[39m\u001b[32m, line 6\u001b[39m\n\u001b[32m      4\u001b[39m df_val[\u001b[33m'\u001b[39m\u001b[33mduration\u001b[39m\u001b[33m'\u001b[39m] = ((df_val.tpep_dropoff_datetime - df_val.tpep_pickup_datetime).dt.total_seconds()/\u001b[32m60\u001b[39m)\n\u001b[32m      5\u001b[39m df_val_excl = df_val.loc[df_val[\u001b[33m'\u001b[39m\u001b[33mduration\u001b[39m\u001b[33m'\u001b[39m].between(\u001b[32m1\u001b[39m,\u001b[32m60\u001b[39m,inclusive=\u001b[33m'\u001b[39m\u001b[33mboth\u001b[39m\u001b[33m'\u001b[39m)]\n\u001b[32m----> \u001b[39m\u001b[32m6\u001b[39m X_val_dict = df_val_excl[\u001b[43mcategorical\u001b[49m].astype(\u001b[38;5;28mstr\u001b[39m).to_dict(orient=\u001b[33m'\u001b[39m\u001b[33mrecords\u001b[39m\u001b[33m'\u001b[39m)\n\u001b[32m      7\u001b[39m y_val = df_val_excl[target].values\n\u001b[32m      8\u001b[39m X_val = dv.transform(X_val_dict)\n",
      "\u001b[31mNameError\u001b[39m: name 'categorical' is not defined"
     ]
    }
   ],
   "source": [
    "PATH = \" https://d37ci6vzurychx.cloudfront.net/trip-data/yellow_tripdata_2023-02.parquet\"\n",
    "\n",
    "df_val = pd.read_parquet(PATH)\n",
    "df_val['duration'] = ((df_val.tpep_dropoff_datetime - df_val.tpep_pickup_datetime).dt.total_seconds()/60)\n",
    "df_val_excl = df_val.loc[df_val['duration'].between(1,60,inclusive='both')]\n",
    "X_val_dict = df_val_excl[categorical].astype(str).to_dict(orient='records')\n",
    "y_val = df_val_excl[target].values\n",
    "X_val = dv.transform(X_val_dict)\n",
    "y_val_pred = lr.predict(X_val)\n",
    "rmse(y_val, y_val_pred)"
   ]
  },
  {
   "cell_type": "code",
   "execution_count": 22,
   "id": "6c72b2c9",
   "metadata": {},
   "outputs": [],
   "source": [
    "def calculate_duration(df:pd.DataFrame) -> pd.DataFrame:\n",
    "    df['duration'] = (df['tpep_dropoff_datetime'] - df['tpep_pickup_datetime']).dt.total_seconds()/60\n",
    "    return df "
   ]
  },
  {
   "cell_type": "code",
   "execution_count": 28,
   "id": "0d87ec13",
   "metadata": {},
   "outputs": [],
   "source": [
    "def filter_outliers(df:pd.DataFrame) -> pd.DataFrame:\n",
    "    return df.loc[df['duration'].between(1,60,inclusive='both')]\n",
    "\n"
   ]
  },
  {
   "cell_type": "code",
   "execution_count": 27,
   "id": "0c8cc776",
   "metadata": {},
   "outputs": [
    {
     "data": {
      "text/html": [
       "<div>\n",
       "<style scoped>\n",
       "    .dataframe tbody tr th:only-of-type {\n",
       "        vertical-align: middle;\n",
       "    }\n",
       "\n",
       "    .dataframe tbody tr th {\n",
       "        vertical-align: top;\n",
       "    }\n",
       "\n",
       "    .dataframe thead th {\n",
       "        text-align: right;\n",
       "    }\n",
       "</style>\n",
       "<table border=\"1\" class=\"dataframe\">\n",
       "  <thead>\n",
       "    <tr style=\"text-align: right;\">\n",
       "      <th></th>\n",
       "      <th>VendorID</th>\n",
       "      <th>tpep_pickup_datetime</th>\n",
       "      <th>tpep_dropoff_datetime</th>\n",
       "      <th>passenger_count</th>\n",
       "      <th>trip_distance</th>\n",
       "      <th>RatecodeID</th>\n",
       "      <th>store_and_fwd_flag</th>\n",
       "      <th>PULocationID</th>\n",
       "      <th>DOLocationID</th>\n",
       "      <th>payment_type</th>\n",
       "      <th>fare_amount</th>\n",
       "      <th>extra</th>\n",
       "      <th>mta_tax</th>\n",
       "      <th>tip_amount</th>\n",
       "      <th>tolls_amount</th>\n",
       "      <th>improvement_surcharge</th>\n",
       "      <th>total_amount</th>\n",
       "      <th>congestion_surcharge</th>\n",
       "      <th>Airport_fee</th>\n",
       "      <th>duration</th>\n",
       "    </tr>\n",
       "  </thead>\n",
       "  <tbody>\n",
       "    <tr>\n",
       "      <th>0</th>\n",
       "      <td>1</td>\n",
       "      <td>2023-02-01 00:32:53</td>\n",
       "      <td>2023-02-01 00:34:34</td>\n",
       "      <td>2.0</td>\n",
       "      <td>0.30</td>\n",
       "      <td>1.0</td>\n",
       "      <td>N</td>\n",
       "      <td>142</td>\n",
       "      <td>163</td>\n",
       "      <td>2</td>\n",
       "      <td>4.40</td>\n",
       "      <td>3.50</td>\n",
       "      <td>0.5</td>\n",
       "      <td>0.00</td>\n",
       "      <td>0.0</td>\n",
       "      <td>1.0</td>\n",
       "      <td>9.40</td>\n",
       "      <td>2.5</td>\n",
       "      <td>0.00</td>\n",
       "      <td>1.683333</td>\n",
       "    </tr>\n",
       "    <tr>\n",
       "      <th>3</th>\n",
       "      <td>1</td>\n",
       "      <td>2023-02-01 00:29:33</td>\n",
       "      <td>2023-02-01 01:01:38</td>\n",
       "      <td>0.0</td>\n",
       "      <td>18.80</td>\n",
       "      <td>1.0</td>\n",
       "      <td>N</td>\n",
       "      <td>132</td>\n",
       "      <td>26</td>\n",
       "      <td>1</td>\n",
       "      <td>70.90</td>\n",
       "      <td>2.25</td>\n",
       "      <td>0.5</td>\n",
       "      <td>0.00</td>\n",
       "      <td>0.0</td>\n",
       "      <td>1.0</td>\n",
       "      <td>74.65</td>\n",
       "      <td>0.0</td>\n",
       "      <td>1.25</td>\n",
       "      <td>32.083333</td>\n",
       "    </tr>\n",
       "    <tr>\n",
       "      <th>4</th>\n",
       "      <td>2</td>\n",
       "      <td>2023-02-01 00:12:28</td>\n",
       "      <td>2023-02-01 00:25:46</td>\n",
       "      <td>1.0</td>\n",
       "      <td>3.22</td>\n",
       "      <td>1.0</td>\n",
       "      <td>N</td>\n",
       "      <td>161</td>\n",
       "      <td>145</td>\n",
       "      <td>1</td>\n",
       "      <td>17.00</td>\n",
       "      <td>1.00</td>\n",
       "      <td>0.5</td>\n",
       "      <td>3.30</td>\n",
       "      <td>0.0</td>\n",
       "      <td>1.0</td>\n",
       "      <td>25.30</td>\n",
       "      <td>2.5</td>\n",
       "      <td>0.00</td>\n",
       "      <td>13.300000</td>\n",
       "    </tr>\n",
       "    <tr>\n",
       "      <th>5</th>\n",
       "      <td>1</td>\n",
       "      <td>2023-02-01 00:52:40</td>\n",
       "      <td>2023-02-01 01:07:18</td>\n",
       "      <td>1.0</td>\n",
       "      <td>5.10</td>\n",
       "      <td>1.0</td>\n",
       "      <td>N</td>\n",
       "      <td>148</td>\n",
       "      <td>236</td>\n",
       "      <td>1</td>\n",
       "      <td>21.90</td>\n",
       "      <td>3.50</td>\n",
       "      <td>0.5</td>\n",
       "      <td>5.35</td>\n",
       "      <td>0.0</td>\n",
       "      <td>1.0</td>\n",
       "      <td>32.25</td>\n",
       "      <td>2.5</td>\n",
       "      <td>0.00</td>\n",
       "      <td>14.633333</td>\n",
       "    </tr>\n",
       "    <tr>\n",
       "      <th>6</th>\n",
       "      <td>1</td>\n",
       "      <td>2023-02-01 00:12:39</td>\n",
       "      <td>2023-02-01 00:40:36</td>\n",
       "      <td>1.0</td>\n",
       "      <td>8.90</td>\n",
       "      <td>1.0</td>\n",
       "      <td>N</td>\n",
       "      <td>137</td>\n",
       "      <td>244</td>\n",
       "      <td>1</td>\n",
       "      <td>41.50</td>\n",
       "      <td>3.50</td>\n",
       "      <td>0.5</td>\n",
       "      <td>3.50</td>\n",
       "      <td>0.0</td>\n",
       "      <td>1.0</td>\n",
       "      <td>50.00</td>\n",
       "      <td>2.5</td>\n",
       "      <td>0.00</td>\n",
       "      <td>27.950000</td>\n",
       "    </tr>\n",
       "    <tr>\n",
       "      <th>...</th>\n",
       "      <td>...</td>\n",
       "      <td>...</td>\n",
       "      <td>...</td>\n",
       "      <td>...</td>\n",
       "      <td>...</td>\n",
       "      <td>...</td>\n",
       "      <td>...</td>\n",
       "      <td>...</td>\n",
       "      <td>...</td>\n",
       "      <td>...</td>\n",
       "      <td>...</td>\n",
       "      <td>...</td>\n",
       "      <td>...</td>\n",
       "      <td>...</td>\n",
       "      <td>...</td>\n",
       "      <td>...</td>\n",
       "      <td>...</td>\n",
       "      <td>...</td>\n",
       "      <td>...</td>\n",
       "      <td>...</td>\n",
       "    </tr>\n",
       "    <tr>\n",
       "      <th>2913950</th>\n",
       "      <td>2</td>\n",
       "      <td>2023-02-28 23:46:00</td>\n",
       "      <td>2023-03-01 00:05:00</td>\n",
       "      <td>NaN</td>\n",
       "      <td>4.65</td>\n",
       "      <td>NaN</td>\n",
       "      <td>None</td>\n",
       "      <td>249</td>\n",
       "      <td>140</td>\n",
       "      <td>0</td>\n",
       "      <td>20.22</td>\n",
       "      <td>0.00</td>\n",
       "      <td>0.5</td>\n",
       "      <td>4.84</td>\n",
       "      <td>0.0</td>\n",
       "      <td>1.0</td>\n",
       "      <td>29.06</td>\n",
       "      <td>NaN</td>\n",
       "      <td>NaN</td>\n",
       "      <td>19.000000</td>\n",
       "    </tr>\n",
       "    <tr>\n",
       "      <th>2913951</th>\n",
       "      <td>2</td>\n",
       "      <td>2023-02-28 23:26:02</td>\n",
       "      <td>2023-02-28 23:37:10</td>\n",
       "      <td>NaN</td>\n",
       "      <td>2.47</td>\n",
       "      <td>NaN</td>\n",
       "      <td>None</td>\n",
       "      <td>186</td>\n",
       "      <td>79</td>\n",
       "      <td>0</td>\n",
       "      <td>13.66</td>\n",
       "      <td>0.00</td>\n",
       "      <td>0.5</td>\n",
       "      <td>2.65</td>\n",
       "      <td>0.0</td>\n",
       "      <td>1.0</td>\n",
       "      <td>20.31</td>\n",
       "      <td>NaN</td>\n",
       "      <td>NaN</td>\n",
       "      <td>11.133333</td>\n",
       "    </tr>\n",
       "    <tr>\n",
       "      <th>2913952</th>\n",
       "      <td>2</td>\n",
       "      <td>2023-02-28 23:24:00</td>\n",
       "      <td>2023-02-28 23:38:00</td>\n",
       "      <td>NaN</td>\n",
       "      <td>3.49</td>\n",
       "      <td>NaN</td>\n",
       "      <td>None</td>\n",
       "      <td>158</td>\n",
       "      <td>143</td>\n",
       "      <td>0</td>\n",
       "      <td>17.64</td>\n",
       "      <td>0.00</td>\n",
       "      <td>0.5</td>\n",
       "      <td>0.00</td>\n",
       "      <td>0.0</td>\n",
       "      <td>1.0</td>\n",
       "      <td>21.64</td>\n",
       "      <td>NaN</td>\n",
       "      <td>NaN</td>\n",
       "      <td>14.000000</td>\n",
       "    </tr>\n",
       "    <tr>\n",
       "      <th>2913953</th>\n",
       "      <td>2</td>\n",
       "      <td>2023-02-28 23:03:00</td>\n",
       "      <td>2023-02-28 23:10:00</td>\n",
       "      <td>NaN</td>\n",
       "      <td>2.13</td>\n",
       "      <td>NaN</td>\n",
       "      <td>None</td>\n",
       "      <td>79</td>\n",
       "      <td>162</td>\n",
       "      <td>0</td>\n",
       "      <td>13.56</td>\n",
       "      <td>0.00</td>\n",
       "      <td>0.5</td>\n",
       "      <td>2.63</td>\n",
       "      <td>0.0</td>\n",
       "      <td>1.0</td>\n",
       "      <td>20.19</td>\n",
       "      <td>NaN</td>\n",
       "      <td>NaN</td>\n",
       "      <td>7.000000</td>\n",
       "    </tr>\n",
       "    <tr>\n",
       "      <th>2913954</th>\n",
       "      <td>2</td>\n",
       "      <td>2023-02-28 23:03:03</td>\n",
       "      <td>2023-02-28 23:12:51</td>\n",
       "      <td>NaN</td>\n",
       "      <td>2.28</td>\n",
       "      <td>NaN</td>\n",
       "      <td>None</td>\n",
       "      <td>161</td>\n",
       "      <td>140</td>\n",
       "      <td>0</td>\n",
       "      <td>14.89</td>\n",
       "      <td>0.00</td>\n",
       "      <td>0.5</td>\n",
       "      <td>3.78</td>\n",
       "      <td>0.0</td>\n",
       "      <td>1.0</td>\n",
       "      <td>22.67</td>\n",
       "      <td>NaN</td>\n",
       "      <td>NaN</td>\n",
       "      <td>9.800000</td>\n",
       "    </tr>\n",
       "  </tbody>\n",
       "</table>\n",
       "<p>2855951 rows × 20 columns</p>\n",
       "</div>"
      ],
      "text/plain": [
       "         VendorID tpep_pickup_datetime tpep_dropoff_datetime  passenger_count  \\\n",
       "0               1  2023-02-01 00:32:53   2023-02-01 00:34:34              2.0   \n",
       "3               1  2023-02-01 00:29:33   2023-02-01 01:01:38              0.0   \n",
       "4               2  2023-02-01 00:12:28   2023-02-01 00:25:46              1.0   \n",
       "5               1  2023-02-01 00:52:40   2023-02-01 01:07:18              1.0   \n",
       "6               1  2023-02-01 00:12:39   2023-02-01 00:40:36              1.0   \n",
       "...           ...                  ...                   ...              ...   \n",
       "2913950         2  2023-02-28 23:46:00   2023-03-01 00:05:00              NaN   \n",
       "2913951         2  2023-02-28 23:26:02   2023-02-28 23:37:10              NaN   \n",
       "2913952         2  2023-02-28 23:24:00   2023-02-28 23:38:00              NaN   \n",
       "2913953         2  2023-02-28 23:03:00   2023-02-28 23:10:00              NaN   \n",
       "2913954         2  2023-02-28 23:03:03   2023-02-28 23:12:51              NaN   \n",
       "\n",
       "         trip_distance  RatecodeID store_and_fwd_flag  PULocationID  \\\n",
       "0                 0.30         1.0                  N           142   \n",
       "3                18.80         1.0                  N           132   \n",
       "4                 3.22         1.0                  N           161   \n",
       "5                 5.10         1.0                  N           148   \n",
       "6                 8.90         1.0                  N           137   \n",
       "...                ...         ...                ...           ...   \n",
       "2913950           4.65         NaN               None           249   \n",
       "2913951           2.47         NaN               None           186   \n",
       "2913952           3.49         NaN               None           158   \n",
       "2913953           2.13         NaN               None            79   \n",
       "2913954           2.28         NaN               None           161   \n",
       "\n",
       "         DOLocationID  payment_type  fare_amount  extra  mta_tax  tip_amount  \\\n",
       "0                 163             2         4.40   3.50      0.5        0.00   \n",
       "3                  26             1        70.90   2.25      0.5        0.00   \n",
       "4                 145             1        17.00   1.00      0.5        3.30   \n",
       "5                 236             1        21.90   3.50      0.5        5.35   \n",
       "6                 244             1        41.50   3.50      0.5        3.50   \n",
       "...               ...           ...          ...    ...      ...         ...   \n",
       "2913950           140             0        20.22   0.00      0.5        4.84   \n",
       "2913951            79             0        13.66   0.00      0.5        2.65   \n",
       "2913952           143             0        17.64   0.00      0.5        0.00   \n",
       "2913953           162             0        13.56   0.00      0.5        2.63   \n",
       "2913954           140             0        14.89   0.00      0.5        3.78   \n",
       "\n",
       "         tolls_amount  improvement_surcharge  total_amount  \\\n",
       "0                 0.0                    1.0          9.40   \n",
       "3                 0.0                    1.0         74.65   \n",
       "4                 0.0                    1.0         25.30   \n",
       "5                 0.0                    1.0         32.25   \n",
       "6                 0.0                    1.0         50.00   \n",
       "...               ...                    ...           ...   \n",
       "2913950           0.0                    1.0         29.06   \n",
       "2913951           0.0                    1.0         20.31   \n",
       "2913952           0.0                    1.0         21.64   \n",
       "2913953           0.0                    1.0         20.19   \n",
       "2913954           0.0                    1.0         22.67   \n",
       "\n",
       "         congestion_surcharge  Airport_fee   duration  \n",
       "0                         2.5         0.00   1.683333  \n",
       "3                         0.0         1.25  32.083333  \n",
       "4                         2.5         0.00  13.300000  \n",
       "5                         2.5         0.00  14.633333  \n",
       "6                         2.5         0.00  27.950000  \n",
       "...                       ...          ...        ...  \n",
       "2913950                   NaN          NaN  19.000000  \n",
       "2913951                   NaN          NaN  11.133333  \n",
       "2913952                   NaN          NaN  14.000000  \n",
       "2913953                   NaN          NaN   7.000000  \n",
       "2913954                   NaN          NaN   9.800000  \n",
       "\n",
       "[2855951 rows x 20 columns]"
      ]
     },
     "execution_count": 27,
     "metadata": {},
     "output_type": "execute_result"
    }
   ],
   "source": [
    "df_val.pipe(calculate_duration).pipe(filter_outliers)"
   ]
  },
  {
   "cell_type": "code",
   "execution_count": null,
   "id": "0712e11b",
   "metadata": {},
   "outputs": [],
   "source": []
  },
  {
   "cell_type": "code",
   "execution_count": 1,
   "id": "5c401188",
   "metadata": {},
   "outputs": [],
   "source": [
    "from src.transform import *"
   ]
  },
  {
   "cell_type": "code",
   "execution_count": 2,
   "id": "e36dd5ed",
   "metadata": {},
   "outputs": [
    {
     "ename": "NameError",
     "evalue": "name 'X_val' is not defined",
     "output_type": "error",
     "traceback": [
      "\u001b[31m---------------------------------------------------------------------------\u001b[39m",
      "\u001b[31mNameError\u001b[39m                                 Traceback (most recent call last)",
      "\u001b[36mCell\u001b[39m\u001b[36m \u001b[39m\u001b[32mIn[2]\u001b[39m\u001b[32m, line 1\u001b[39m\n\u001b[32m----> \u001b[39m\u001b[32m1\u001b[39m predict(\u001b[43mX_val\u001b[49m, y_val, lr)\n",
      "\u001b[31mNameError\u001b[39m: name 'X_val' is not defined"
     ]
    }
   ],
   "source": [
    "\n",
    "\n",
    "predict(X_val, y_val, lr)"
   ]
  },
  {
   "cell_type": "code",
   "execution_count": 39,
   "id": "522da26f",
   "metadata": {},
   "outputs": [
    {
     "data": {
      "text/plain": [
       "<Compressed Sparse Row sparse matrix of dtype 'float64'\n",
       "\twith 2 stored elements and shape (1, 515)>"
      ]
     },
     "execution_count": 39,
     "metadata": {},
     "output_type": "execute_result"
    }
   ],
   "source": [
    "\n",
    "vectorize_matrix(X_val_dict, dv)[1]\n"
   ]
  },
  {
   "cell_type": "code",
   "execution_count": null,
   "id": "67ae885d",
   "metadata": {},
   "outputs": [],
   "source": []
  }
 ],
 "metadata": {
  "kernelspec": {
   "display_name": "01-intro-OrfwbUoF",
   "language": "python",
   "name": "python3"
  },
  "language_info": {
   "codemirror_mode": {
    "name": "ipython",
    "version": 3
   },
   "file_extension": ".py",
   "mimetype": "text/x-python",
   "name": "python",
   "nbconvert_exporter": "python",
   "pygments_lexer": "ipython3",
   "version": "3.12.3"
  }
 },
 "nbformat": 4,
 "nbformat_minor": 5
}
